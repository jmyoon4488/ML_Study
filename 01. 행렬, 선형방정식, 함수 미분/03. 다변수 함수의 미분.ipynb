{
 "cells": [
  {
   "cell_type": "code",
   "execution_count": 1,
   "metadata": {},
   "outputs": [],
   "source": [
    "import sympy as sp"
   ]
  },
  {
   "cell_type": "markdown",
   "metadata": {},
   "source": [
    "참고 링크: \n",
    "1. https://github.com/sympy/sympy/wiki/Quick-examples\n",
    "1. http://docs.sympy.org/latest/tutorial/calculus.html#derivatives\n",
    "1. http://docs.sympy.org/latest/tutorial/calculus.html#series-expansion"
   ]
  },
  {
   "cell_type": "code",
   "execution_count": 2,
   "metadata": {},
   "outputs": [],
   "source": [
    "x = sp.symbols('x')\n",
    "y = sp.symbols('y')\n",
    "z = sp.symbols('z')"
   ]
  },
  {
   "cell_type": "markdown",
   "metadata": {},
   "source": [
    "## 미분 01 : Derivative in 1D\n",
    "$x$ 에 대한 $f(x)$ 의 미분을 구합니다.\n",
    "\\begin{equation}\n",
    "f(x) = x^2 + 4x + 6\n",
    "\\end{equation}"
   ]
  },
  {
   "cell_type": "code",
   "execution_count": 3,
   "metadata": {},
   "outputs": [
    {
     "data": {
      "text/plain": [
       "x**2 + 4*x + 6"
      ]
     },
     "execution_count": 3,
     "metadata": {},
     "output_type": "execute_result"
    }
   ],
   "source": [
    "f = x**2 + 4*x + 6\n",
    "f"
   ]
  },
  {
   "cell_type": "code",
   "execution_count": 4,
   "metadata": {},
   "outputs": [
    {
     "data": {
      "text/plain": [
       "2*x + 4"
      ]
     },
     "execution_count": 4,
     "metadata": {},
     "output_type": "execute_result"
    }
   ],
   "source": [
    "sp.diff(f,x)"
   ]
  },
  {
   "cell_type": "code",
   "execution_count": 5,
   "metadata": {},
   "outputs": [],
   "source": [
    "sp.init_printing()"
   ]
  },
  {
   "cell_type": "code",
   "execution_count": 6,
   "metadata": {},
   "outputs": [
    {
     "data": {
      "image/png": "[encoded data removed]",
      "text/latex": [
       "$$2 x + 4$$"
      ],
      "text/plain": [
       "2⋅x + 4"
      ]
     },
     "execution_count": 6,
     "metadata": {},
     "output_type": "execute_result"
    }
   ],
   "source": [
    "sp.diff(f,x)"
   ]
  },
  {
   "cell_type": "markdown",
   "metadata": {},
   "source": [
    "## 미분 02 : Derivative in 2D\n",
    "$x$ 와 $y$ 를 기준으로 $f(x,y)$ 의 편미분을 구합니다.\n",
    "\\begin{equation}\n",
    "f(x,y) = x^2 + 4x + 6 + y^2 + xy\n",
    "\\end{equation}"
   ]
  },
  {
   "cell_type": "code",
   "execution_count": 7,
   "metadata": {},
   "outputs": [
    {
     "data": {
      "image/png": "[encoded data removed]",
      "text/latex": [
       "$$x^{2} + x y + 4 x + y^{2} + 6$$"
      ],
      "text/plain": [
       " 2                2    \n",
       "x  + x⋅y + 4⋅x + y  + 6"
      ]
     },
     "execution_count": 7,
     "metadata": {},
     "output_type": "execute_result"
    }
   ],
   "source": [
    "f = x**2 + 4*x + 6 + y**2 + x*y\n",
    "f"
   ]
  },
  {
   "cell_type": "markdown",
   "metadata": {},
   "source": [
    "- TODO 1: Compute $\\frac{\\partial f}{\\partial x}$\n",
    "- TODO 2: Compute $\\frac{\\partial f}{\\partial y}$"
   ]
  },
  {
   "cell_type": "code",
   "execution_count": 8,
   "metadata": {},
   "outputs": [
    {
     "data": {
      "image/png": "[encoded data removed]",
      "text/latex": [
       "$$2 x + y + 4$$"
      ],
      "text/plain": [
       "2⋅x + y + 4"
      ]
     },
     "execution_count": 8,
     "metadata": {},
     "output_type": "execute_result"
    }
   ],
   "source": [
    "# TODO 1\n",
    "sp.diff(f,x)"
   ]
  },
  {
   "cell_type": "code",
   "execution_count": 9,
   "metadata": {},
   "outputs": [
    {
     "data": {
      "image/png": "[encoded data removed]",
      "text/latex": [
       "$$x + 2 y$$"
      ],
      "text/plain": [
       "x + 2⋅y"
      ]
     },
     "execution_count": 9,
     "metadata": {},
     "output_type": "execute_result"
    }
   ],
   "source": [
    "# TODO 2\n",
    "sp.diff(f,y)"
   ]
  },
  {
   "cell_type": "markdown",
   "metadata": {},
   "source": [
    "## 기울기 03 : Gradient in 2D\n",
    "$f(x,y)$ 의 Gradient 를 구합니다.\n",
    "\\begin{equation}\n",
    "f(x,y) = x^2 + 4x + 6 + y^2 + xy\n",
    "\\end{equation}"
   ]
  },
  {
   "cell_type": "code",
   "execution_count": 10,
   "metadata": {},
   "outputs": [
    {
     "data": {
      "text/latex": [
       "$$\\left[\\begin{matrix}x^{2} + x y + 4 x + y^{2} + 6\\end{matrix}\\right]$$"
      ],
      "text/plain": [
       "⎡ 2                2    ⎤\n",
       "⎣x  + x⋅y + 4⋅x + y  + 6⎦"
      ]
     },
     "execution_count": 10,
     "metadata": {},
     "output_type": "execute_result"
    }
   ],
   "source": [
    "F = sp.Matrix(1,1,[f])\n",
    "F"
   ]
  },
  {
   "cell_type": "code",
   "execution_count": 11,
   "metadata": {},
   "outputs": [
    {
     "data": {
      "text/latex": [
       "$$\\left[\\begin{matrix}2 x + y + 4\\\\x + 2 y\\end{matrix}\\right]$$"
      ],
      "text/plain": [
       "⎡2⋅x + y + 4⎤\n",
       "⎢           ⎥\n",
       "⎣  x + 2⋅y  ⎦"
      ]
     },
     "execution_count": 11,
     "metadata": {},
     "output_type": "execute_result"
    }
   ],
   "source": [
    "grad = F.jacobian([x,y]).T\n",
    "grad"
   ]
  },
  {
   "cell_type": "markdown",
   "metadata": {},
   "source": [
    "## 미분 04 : Derivative in 3D\n",
    "$x,y,z$ 를 기준으로 $f(x,y,z)$ 의 편미분을 구합니다.\n",
    "\\begin{equation}\n",
    "f(x,y,z) = x^2z^2 + 4x + 6 + y^2 + xy \n",
    "\\end{equation}"
   ]
  },
  {
   "cell_type": "markdown",
   "metadata": {},
   "source": [
    "- TODO 3: Compute $\\nabla f(x,y,z)$"
   ]
  },
  {
   "cell_type": "code",
   "execution_count": 12,
   "metadata": {},
   "outputs": [
    {
     "data": {
      "text/latex": [
       "$$\\left[\\begin{matrix}2 x z^{2} + y + 4\\\\x + 2 y\\\\2 x^{2} z\\end{matrix}\\right]$$"
      ],
      "text/plain": [
       "⎡     2        ⎤\n",
       "⎢2⋅x⋅z  + y + 4⎥\n",
       "⎢              ⎥\n",
       "⎢   x + 2⋅y    ⎥\n",
       "⎢              ⎥\n",
       "⎢       2      ⎥\n",
       "⎣    2⋅x ⋅z    ⎦"
      ]
     },
     "execution_count": 12,
     "metadata": {},
     "output_type": "execute_result"
    }
   ],
   "source": [
    "# TODO 3\n",
    "f = x**2 * z**2 + 4 * x + 6 + y**2 + x*y\n",
    "F = sp.Matrix(1,1,[f])\n",
    "grad = F.jacobian([x,y,z]).T\n",
    "grad"
   ]
  },
  {
   "cell_type": "markdown",
   "metadata": {},
   "source": [
    "## 추가"
   ]
  },
  {
   "cell_type": "code",
   "execution_count": 13,
   "metadata": {},
   "outputs": [
    {
     "data": {
      "image/png": "[encoded data removed]",
      "text/latex": [
       "$$\\int \\left(x^{2} z^{2} + x y + 4 x + y^{2} + 6\\right)\\, dx$$"
      ],
      "text/plain": [
       "⌠                                \n",
       "⎮ ⎛ 2  2                2    ⎞   \n",
       "⎮ ⎝x ⋅z  + x⋅y + 4⋅x + y  + 6⎠ dx\n",
       "⌡                                "
      ]
     },
     "execution_count": 13,
     "metadata": {},
     "output_type": "execute_result"
    }
   ],
   "source": [
    "sp.Integral(f,x)"
   ]
  },
  {
   "cell_type": "code",
   "execution_count": 14,
   "metadata": {},
   "outputs": [
    {
     "data": {
      "image/png": "[encoded data removed]",
      "text/latex": [
       "$$\\frac{x^{3} z^{2}}{3} + x^{2} \\left(\\frac{y}{2} + 2\\right) + x \\left(y^{2} + 6\\right)$$"
      ],
      "text/plain": [
       " 3  2                          \n",
       "x ⋅z     2 ⎛y    ⎞     ⎛ 2    ⎞\n",
       "───── + x ⋅⎜─ + 2⎟ + x⋅⎝y  + 6⎠\n",
       "  3        ⎝2    ⎠             "
      ]
     },
     "execution_count": 14,
     "metadata": {},
     "output_type": "execute_result"
    }
   ],
   "source": [
    "sp.integrate(f,x)"
   ]
  },
  {
   "cell_type": "code",
   "execution_count": 15,
   "metadata": {},
   "outputs": [
    {
     "data": {
      "image/png": "[encoded data removed]",
      "text/latex": [
       "$$\\frac{x y^{2}}{2} + \\frac{y^{3}}{3} + y \\left(x^{2} z^{2} + 4 x + 6\\right)$$"
      ],
      "text/plain": [
       "   2    3                      \n",
       "x⋅y    y      ⎛ 2  2          ⎞\n",
       "──── + ── + y⋅⎝x ⋅z  + 4⋅x + 6⎠\n",
       " 2     3                       "
      ]
     },
     "execution_count": 15,
     "metadata": {},
     "output_type": "execute_result"
    }
   ],
   "source": [
    "sp.integrate(f,y)"
   ]
  },
  {
   "cell_type": "markdown",
   "metadata": {},
   "source": [
    "## 추가 05\n",
    "Check $x\\in\\mathbf{R}^4$\n",
    "\n",
    "\\begin{equation}\n",
    "\\nabla \\left( \\frac{1}{2} x^Tx\\right) = x\n",
    "\\end{equation}"
   ]
  },
  {
   "cell_type": "code",
   "execution_count": 16,
   "metadata": {},
   "outputs": [
    {
     "data": {
      "image/png": "[encoded data removed]",
      "text/latex": [
       "$$\\left ( x_{0}, \\quad x_{1}, \\quad x_{2}, \\quad x_{3}\\right )$$"
      ],
      "text/plain": [
       "(x₀, x₁, x₂, x₃)"
      ]
     },
     "execution_count": 16,
     "metadata": {},
     "output_type": "execute_result"
    }
   ],
   "source": [
    "x = sp.symbols('x_0:4')\n",
    "x"
   ]
  },
  {
   "cell_type": "code",
   "execution_count": 17,
   "metadata": {},
   "outputs": [
    {
     "data": {
      "text/latex": [
       "$$\\left[\\begin{matrix}x_{0}\\\\x_{1}\\\\x_{2}\\\\x_{3}\\end{matrix}\\right]$$"
      ],
      "text/plain": [
       "⎡x₀⎤\n",
       "⎢  ⎥\n",
       "⎢x₁⎥\n",
       "⎢  ⎥\n",
       "⎢x₂⎥\n",
       "⎢  ⎥\n",
       "⎣x₃⎦"
      ]
     },
     "execution_count": 17,
     "metadata": {},
     "output_type": "execute_result"
    }
   ],
   "source": [
    "x = sp.Matrix(x)\n",
    "x"
   ]
  },
  {
   "cell_type": "code",
   "execution_count": 18,
   "metadata": {},
   "outputs": [
    {
     "data": {
      "text/latex": [
       "$$\\left[\\begin{matrix}0.5 x_{0}^{2} + 0.5 x_{1}^{2} + 0.5 x_{2}^{2} + 0.5 x_{3}^{2}\\end{matrix}\\right]$$"
      ],
      "text/plain": [
       "⎡      2         2         2         2⎤\n",
       "⎣0.5⋅x₀  + 0.5⋅x₁  + 0.5⋅x₂  + 0.5⋅x₃ ⎦"
      ]
     },
     "execution_count": 18,
     "metadata": {},
     "output_type": "execute_result"
    }
   ],
   "source": [
    "f = 0.5 * x.T * x\n",
    "f"
   ]
  },
  {
   "cell_type": "code",
   "execution_count": 19,
   "metadata": {},
   "outputs": [
    {
     "data": {
      "text/latex": [
       "$$\\left[\\begin{matrix}1.0 x_{0}\\\\1.0 x_{1}\\\\1.0 x_{2}\\\\1.0 x_{3}\\end{matrix}\\right]$$"
      ],
      "text/plain": [
       "⎡1.0⋅x₀⎤\n",
       "⎢      ⎥\n",
       "⎢1.0⋅x₁⎥\n",
       "⎢      ⎥\n",
       "⎢1.0⋅x₂⎥\n",
       "⎢      ⎥\n",
       "⎣1.0⋅x₃⎦"
      ]
     },
     "execution_count": 19,
     "metadata": {},
     "output_type": "execute_result"
    }
   ],
   "source": [
    "f.jacobian(x).T"
   ]
  },
  {
   "cell_type": "markdown",
   "metadata": {},
   "source": [
    "## 추가 06\n",
    "Check $x\\in\\mathbf{R}^4$\n",
    "\n",
    "\\begin{equation}\n",
    "\\nabla \\left( \\frac{1}{2} x^TAx\\right) = \\frac{1}{2}(A+A^T)x\n",
    "\\end{equation}"
   ]
  },
  {
   "cell_type": "code",
   "execution_count": 20,
   "metadata": {},
   "outputs": [
    {
     "data": {
      "image/png": "[encoded data removed]",
      "text/latex": [
       "$$\\left ( x_{0}, \\quad x_{1}, \\quad x_{2}, \\quad x_{3}\\right )$$"
      ],
      "text/plain": [
       "(x₀, x₁, x₂, x₃)"
      ]
     },
     "execution_count": 20,
     "metadata": {},
     "output_type": "execute_result"
    }
   ],
   "source": [
    "x = sp.symbols('x_0:4')\n",
    "x"
   ]
  },
  {
   "cell_type": "code",
   "execution_count": 21,
   "metadata": {},
   "outputs": [
    {
     "data": {
      "text/latex": [
       "$$\\left[\\begin{matrix}x_{0}\\\\x_{1}\\\\x_{2}\\\\x_{3}\\end{matrix}\\right]$$"
      ],
      "text/plain": [
       "⎡x₀⎤\n",
       "⎢  ⎥\n",
       "⎢x₁⎥\n",
       "⎢  ⎥\n",
       "⎢x₂⎥\n",
       "⎢  ⎥\n",
       "⎣x₃⎦"
      ]
     },
     "execution_count": 21,
     "metadata": {},
     "output_type": "execute_result"
    }
   ],
   "source": [
    "x = sp.Matrix(x)\n",
    "x"
   ]
  },
  {
   "cell_type": "code",
   "execution_count": 22,
   "metadata": {},
   "outputs": [
    {
     "data": {
      "image/png": "[encoded data removed]",
      "text/latex": [
       "$$A$$"
      ],
      "text/plain": [
       "A"
      ]
     },
     "execution_count": 22,
     "metadata": {},
     "output_type": "execute_result"
    }
   ],
   "source": [
    "A = sp.MatrixSymbol('A', 4,4)\n",
    "A"
   ]
  },
  {
   "cell_type": "code",
   "execution_count": 23,
   "metadata": {},
   "outputs": [
    {
     "data": {
      "text/latex": [
       "$$\\left[\\begin{array}{cccc}A_{0, 0} & A_{0, 1} & A_{0, 2} & A_{0, 3}\\\\A_{1, 0} & A_{1, 1} & A_{1, 2} & A_{1, 3}\\\\A_{2, 0} & A_{2, 1} & A_{2, 2} & A_{2, 3}\\\\A_{3, 0} & A_{3, 1} & A_{3, 2} & A_{3, 3}\\end{array}\\right]$$"
      ],
      "text/plain": [
       "⎡A₀₀  A₀₁  A₀₂  A₀₃⎤\n",
       "⎢                  ⎥\n",
       "⎢A₁₀  A₁₁  A₁₂  A₁₃⎥\n",
       "⎢                  ⎥\n",
       "⎢A₂₀  A₂₁  A₂₂  A₂₃⎥\n",
       "⎢                  ⎥\n",
       "⎣A₃₀  A₃₁  A₃₂  A₃₃⎦"
      ]
     },
     "execution_count": 23,
     "metadata": {},
     "output_type": "execute_result"
    }
   ],
   "source": [
    "A = sp.Matrix(A)\n",
    "A"
   ]
  },
  {
   "cell_type": "code",
   "execution_count": 24,
   "metadata": {},
   "outputs": [
    {
     "data": {
      "text/latex": [
       "$$\\left[\\begin{matrix}x_{0} A_{0, 0} + x_{1} A_{0, 1} + x_{2} A_{0, 2} + x_{3} A_{0, 3}\\\\x_{0} A_{1, 0} + x_{1} A_{1, 1} + x_{2} A_{1, 2} + x_{3} A_{1, 3}\\\\x_{0} A_{2, 0} + x_{1} A_{2, 1} + x_{2} A_{2, 2} + x_{3} A_{2, 3}\\\\x_{0} A_{3, 0} + x_{1} A_{3, 1} + x_{2} A_{3, 2} + x_{3} A_{3, 3}\\end{matrix}\\right]$$"
      ],
      "text/plain": [
       "⎡x₀⋅A₀₀ + x₁⋅A₀₁ + x₂⋅A₀₂ + x₃⋅A₀₃⎤\n",
       "⎢                                 ⎥\n",
       "⎢x₀⋅A₁₀ + x₁⋅A₁₁ + x₂⋅A₁₂ + x₃⋅A₁₃⎥\n",
       "⎢                                 ⎥\n",
       "⎢x₀⋅A₂₀ + x₁⋅A₂₁ + x₂⋅A₂₂ + x₃⋅A₂₃⎥\n",
       "⎢                                 ⎥\n",
       "⎣x₀⋅A₃₀ + x₁⋅A₃₁ + x₂⋅A₃₂ + x₃⋅A₃₃⎦"
      ]
     },
     "execution_count": 24,
     "metadata": {},
     "output_type": "execute_result"
    }
   ],
   "source": [
    "A*x"
   ]
  },
  {
   "cell_type": "code",
   "execution_count": 25,
   "metadata": {},
   "outputs": [
    {
     "data": {
      "text/latex": [
       "$$\\left[\\begin{matrix}x_{0} \\left(0.5 x_{0} A_{0, 0} + 0.5 x_{1} A_{1, 0} + 0.5 x_{2} A_{2, 0} + 0.5 x_{3} A_{3, 0}\\right) + x_{1} \\left(0.5 x_{0} A_{0, 1} + 0.5 x_{1} A_{1, 1} + 0.5 x_{2} A_{2, 1} + 0.5 x_{3} A_{3, 1}\\right) + x_{2} \\left(0.5 x_{0} A_{0, 2} + 0.5 x_{1} A_{1, 2} + 0.5 x_{2} A_{2, 2} + 0.5 x_{3} A_{3, 2}\\right) + x_{3} \\left(0.5 x_{0} A_{0, 3} + 0.5 x_{1} A_{1, 3} + 0.5 x_{2} A_{2, 3} + 0.5 x_{3} A_{3, 3}\\right)\\end{matrix}\\right]$$"
      ],
      "text/plain": [
       "[x₀⋅(0.5⋅x₀⋅A₀₀ + 0.5⋅x₁⋅A₁₀ + 0.5⋅x₂⋅A₂₀ + 0.5⋅x₃⋅A₃₀) + x₁⋅(0.5⋅x₀⋅A₀₁ + 0.5\n",
       "⋅x₁⋅A₁₁ + 0.5⋅x₂⋅A₂₁ + 0.5⋅x₃⋅A₃₁) + x₂⋅(0.5⋅x₀⋅A₀₂ + 0.5⋅x₁⋅A₁₂ + 0.5⋅x₂⋅A₂₂ \n",
       "+ 0.5⋅x₃⋅A₃₂) + x₃⋅(0.5⋅x₀⋅A₀₃ + 0.5⋅x₁⋅A₁₃ + 0.5⋅x₂⋅A₂₃ + 0.5⋅x₃⋅A₃₃)]"
      ]
     },
     "execution_count": 25,
     "metadata": {},
     "output_type": "execute_result"
    }
   ],
   "source": [
    "f = 0.5 * x.T * A * x\n",
    "f"
   ]
  },
  {
   "cell_type": "code",
   "execution_count": 26,
   "metadata": {},
   "outputs": [
    {
     "data": {
      "text/latex": [
       "$$\\left[\\begin{matrix}1.0 x_{0} A_{0, 0} + 0.5 x_{1} A_{0, 1} + 0.5 x_{1} A_{1, 0} + 0.5 x_{2} A_{0, 2} + 0.5 x_{2} A_{2, 0} + 0.5 x_{3} A_{0, 3} + 0.5 x_{3} A_{3, 0}\\\\0.5 x_{0} A_{0, 1} + 0.5 x_{0} A_{1, 0} + 1.0 x_{1} A_{1, 1} + 0.5 x_{2} A_{1, 2} + 0.5 x_{2} A_{2, 1} + 0.5 x_{3} A_{1, 3} + 0.5 x_{3} A_{3, 1}\\\\0.5 x_{0} A_{0, 2} + 0.5 x_{0} A_{2, 0} + 0.5 x_{1} A_{1, 2} + 0.5 x_{1} A_{2, 1} + 1.0 x_{2} A_{2, 2} + 0.5 x_{3} A_{2, 3} + 0.5 x_{3} A_{3, 2}\\\\0.5 x_{0} A_{0, 3} + 0.5 x_{0} A_{3, 0} + 0.5 x_{1} A_{1, 3} + 0.5 x_{1} A_{3, 1} + 0.5 x_{2} A_{2, 3} + 0.5 x_{2} A_{3, 2} + 1.0 x_{3} A_{3, 3}\\end{matrix}\\right]$$"
      ],
      "text/plain": [
       "⎡1.0⋅x₀⋅A₀₀ + 0.5⋅x₁⋅A₀₁ + 0.5⋅x₁⋅A₁₀ + 0.5⋅x₂⋅A₀₂ + 0.5⋅x₂⋅A₂₀ + 0.5⋅x₃⋅A₀₃ +\n",
       "⎢                                                                             \n",
       "⎢0.5⋅x₀⋅A₀₁ + 0.5⋅x₀⋅A₁₀ + 1.0⋅x₁⋅A₁₁ + 0.5⋅x₂⋅A₁₂ + 0.5⋅x₂⋅A₂₁ + 0.5⋅x₃⋅A₁₃ +\n",
       "⎢                                                                             \n",
       "⎢0.5⋅x₀⋅A₀₂ + 0.5⋅x₀⋅A₂₀ + 0.5⋅x₁⋅A₁₂ + 0.5⋅x₁⋅A₂₁ + 1.0⋅x₂⋅A₂₂ + 0.5⋅x₃⋅A₂₃ +\n",
       "⎢                                                                             \n",
       "⎣0.5⋅x₀⋅A₀₃ + 0.5⋅x₀⋅A₃₀ + 0.5⋅x₁⋅A₁₃ + 0.5⋅x₁⋅A₃₁ + 0.5⋅x₂⋅A₂₃ + 0.5⋅x₂⋅A₃₂ +\n",
       "\n",
       " 0.5⋅x₃⋅A₃₀⎤\n",
       "           ⎥\n",
       " 0.5⋅x₃⋅A₃₁⎥\n",
       "           ⎥\n",
       " 0.5⋅x₃⋅A₃₂⎥\n",
       "           ⎥\n",
       " 1.0⋅x₃⋅A₃₃⎦"
      ]
     },
     "execution_count": 26,
     "metadata": {},
     "output_type": "execute_result"
    }
   ],
   "source": [
    "f.jacobian(x).T"
   ]
  },
  {
   "cell_type": "code",
   "execution_count": 27,
   "metadata": {},
   "outputs": [
    {
     "data": {
      "text/latex": [
       "$$\\left[\\begin{matrix}1.0 x_{0} A_{0, 0} + x_{1} \\left(0.5 A_{0, 1} + 0.5 A_{1, 0}\\right) + x_{2} \\left(0.5 A_{0, 2} + 0.5 A_{2, 0}\\right) + x_{3} \\left(0.5 A_{0, 3} + 0.5 A_{3, 0}\\right)\\\\x_{0} \\left(0.5 A_{0, 1} + 0.5 A_{1, 0}\\right) + 1.0 x_{1} A_{1, 1} + x_{2} \\left(0.5 A_{1, 2} + 0.5 A_{2, 1}\\right) + x_{3} \\left(0.5 A_{1, 3} + 0.5 A_{3, 1}\\right)\\\\x_{0} \\left(0.5 A_{0, 2} + 0.5 A_{2, 0}\\right) + x_{1} \\left(0.5 A_{1, 2} + 0.5 A_{2, 1}\\right) + 1.0 x_{2} A_{2, 2} + x_{3} \\left(0.5 A_{2, 3} + 0.5 A_{3, 2}\\right)\\\\x_{0} \\left(0.5 A_{0, 3} + 0.5 A_{3, 0}\\right) + x_{1} \\left(0.5 A_{1, 3} + 0.5 A_{3, 1}\\right) + x_{2} \\left(0.5 A_{2, 3} + 0.5 A_{3, 2}\\right) + 1.0 x_{3} A_{3, 3}\\end{matrix}\\right]$$"
      ],
      "text/plain": [
       "⎡1.0⋅x₀⋅A₀₀ + x₁⋅(0.5⋅A₀₁ + 0.5⋅A₁₀) + x₂⋅(0.5⋅A₀₂ + 0.5⋅A₂₀) + x₃⋅(0.5⋅A₀₃ + \n",
       "⎢                                                                             \n",
       "⎢x₀⋅(0.5⋅A₀₁ + 0.5⋅A₁₀) + 1.0⋅x₁⋅A₁₁ + x₂⋅(0.5⋅A₁₂ + 0.5⋅A₂₁) + x₃⋅(0.5⋅A₁₃ + \n",
       "⎢                                                                             \n",
       "⎢x₀⋅(0.5⋅A₀₂ + 0.5⋅A₂₀) + x₁⋅(0.5⋅A₁₂ + 0.5⋅A₂₁) + 1.0⋅x₂⋅A₂₂ + x₃⋅(0.5⋅A₂₃ + \n",
       "⎢                                                                             \n",
       "⎣x₀⋅(0.5⋅A₀₃ + 0.5⋅A₃₀) + x₁⋅(0.5⋅A₁₃ + 0.5⋅A₃₁) + x₂⋅(0.5⋅A₂₃ + 0.5⋅A₃₂) + 1.\n",
       "\n",
       "0.5⋅A₃₀)⎤\n",
       "        ⎥\n",
       "0.5⋅A₃₁)⎥\n",
       "        ⎥\n",
       "0.5⋅A₃₂)⎥\n",
       "        ⎥\n",
       "0⋅x₃⋅A₃₃⎦"
      ]
     },
     "execution_count": 27,
     "metadata": {},
     "output_type": "execute_result"
    }
   ],
   "source": [
    "0.5 * (A + A.T) * x"
   ]
  },
  {
   "cell_type": "code",
   "execution_count": 28,
   "metadata": {},
   "outputs": [
    {
     "data": {
      "text/latex": [
       "$$\\left[\\begin{matrix}- x_{1} \\left(0.5 A_{0, 1} + 0.5 A_{1, 0}\\right) + 0.5 x_{1} A_{0, 1} + 0.5 x_{1} A_{1, 0} - x_{2} \\left(0.5 A_{0, 2} + 0.5 A_{2, 0}\\right) + 0.5 x_{2} A_{0, 2} + 0.5 x_{2} A_{2, 0} - x_{3} \\left(0.5 A_{0, 3} + 0.5 A_{3, 0}\\right) + 0.5 x_{3} A_{0, 3} + 0.5 x_{3} A_{3, 0}\\\\- x_{0} \\left(0.5 A_{0, 1} + 0.5 A_{1, 0}\\right) + 0.5 x_{0} A_{0, 1} + 0.5 x_{0} A_{1, 0} - x_{2} \\left(0.5 A_{1, 2} + 0.5 A_{2, 1}\\right) + 0.5 x_{2} A_{1, 2} + 0.5 x_{2} A_{2, 1} - x_{3} \\left(0.5 A_{1, 3} + 0.5 A_{3, 1}\\right) + 0.5 x_{3} A_{1, 3} + 0.5 x_{3} A_{3, 1}\\\\- x_{0} \\left(0.5 A_{0, 2} + 0.5 A_{2, 0}\\right) + 0.5 x_{0} A_{0, 2} + 0.5 x_{0} A_{2, 0} - x_{1} \\left(0.5 A_{1, 2} + 0.5 A_{2, 1}\\right) + 0.5 x_{1} A_{1, 2} + 0.5 x_{1} A_{2, 1} - x_{3} \\left(0.5 A_{2, 3} + 0.5 A_{3, 2}\\right) + 0.5 x_{3} A_{2, 3} + 0.5 x_{3} A_{3, 2}\\\\- x_{0} \\left(0.5 A_{0, 3} + 0.5 A_{3, 0}\\right) + 0.5 x_{0} A_{0, 3} + 0.5 x_{0} A_{3, 0} - x_{1} \\left(0.5 A_{1, 3} + 0.5 A_{3, 1}\\right) + 0.5 x_{1} A_{1, 3} + 0.5 x_{1} A_{3, 1} - x_{2} \\left(0.5 A_{2, 3} + 0.5 A_{3, 2}\\right) + 0.5 x_{2} A_{2, 3} + 0.5 x_{2} A_{3, 2}\\end{matrix}\\right]$$"
      ],
      "text/plain": [
       "⎡-x₁⋅(0.5⋅A₀₁ + 0.5⋅A₁₀) + 0.5⋅x₁⋅A₀₁ + 0.5⋅x₁⋅A₁₀ - x₂⋅(0.5⋅A₀₂ + 0.5⋅A₂₀) + \n",
       "⎢                                                                             \n",
       "⎢-x₀⋅(0.5⋅A₀₁ + 0.5⋅A₁₀) + 0.5⋅x₀⋅A₀₁ + 0.5⋅x₀⋅A₁₀ - x₂⋅(0.5⋅A₁₂ + 0.5⋅A₂₁) + \n",
       "⎢                                                                             \n",
       "⎢-x₀⋅(0.5⋅A₀₂ + 0.5⋅A₂₀) + 0.5⋅x₀⋅A₀₂ + 0.5⋅x₀⋅A₂₀ - x₁⋅(0.5⋅A₁₂ + 0.5⋅A₂₁) + \n",
       "⎢                                                                             \n",
       "⎣-x₀⋅(0.5⋅A₀₃ + 0.5⋅A₃₀) + 0.5⋅x₀⋅A₀₃ + 0.5⋅x₀⋅A₃₀ - x₁⋅(0.5⋅A₁₃ + 0.5⋅A₃₁) + \n",
       "\n",
       "0.5⋅x₂⋅A₀₂ + 0.5⋅x₂⋅A₂₀ - x₃⋅(0.5⋅A₀₃ + 0.5⋅A₃₀) + 0.5⋅x₃⋅A₀₃ + 0.5⋅x₃⋅A₃₀⎤\n",
       "                                                                          ⎥\n",
       "0.5⋅x₂⋅A₁₂ + 0.5⋅x₂⋅A₂₁ - x₃⋅(0.5⋅A₁₃ + 0.5⋅A₃₁) + 0.5⋅x₃⋅A₁₃ + 0.5⋅x₃⋅A₃₁⎥\n",
       "                                                                          ⎥\n",
       "0.5⋅x₁⋅A₁₂ + 0.5⋅x₁⋅A₂₁ - x₃⋅(0.5⋅A₂₃ + 0.5⋅A₃₂) + 0.5⋅x₃⋅A₂₃ + 0.5⋅x₃⋅A₃₂⎥\n",
       "                                                                          ⎥\n",
       "0.5⋅x₁⋅A₁₃ + 0.5⋅x₁⋅A₃₁ - x₂⋅(0.5⋅A₂₃ + 0.5⋅A₃₂) + 0.5⋅x₂⋅A₂₃ + 0.5⋅x₂⋅A₃₂⎦"
      ]
     },
     "execution_count": 28,
     "metadata": {},
     "output_type": "execute_result"
    }
   ],
   "source": [
    "f.jacobian(x).T - 0.5 * (A + A.T) * x"
   ]
  },
  {
   "cell_type": "code",
   "execution_count": 29,
   "metadata": {},
   "outputs": [
    {
     "data": {
      "text/latex": [
       "$$\\left[\\begin{matrix}0\\\\0\\\\0\\\\0\\end{matrix}\\right]$$"
      ],
      "text/plain": [
       "⎡0⎤\n",
       "⎢ ⎥\n",
       "⎢0⎥\n",
       "⎢ ⎥\n",
       "⎢0⎥\n",
       "⎢ ⎥\n",
       "⎣0⎦"
      ]
     },
     "execution_count": 29,
     "metadata": {},
     "output_type": "execute_result"
    }
   ],
   "source": [
    "sp.simplify(f.jacobian(x).T - 0.5 * (A + A.T) * x)"
   ]
  },
  {
   "cell_type": "code",
   "execution_count": null,
   "metadata": {},
   "outputs": [],
   "source": []
  }
 ],
 "metadata": {
  "kernelspec": {
   "display_name": "Python 3",
   "language": "python",
   "name": "python3"
  },
  "language_info": {
   "codemirror_mode": {
    "name": "ipython",
    "version": 3
   },
   "file_extension": ".py",
   "mimetype": "text/x-python",
   "name": "python",
   "nbconvert_exporter": "python",
   "pygments_lexer": "ipython3",
   "version": "3.5.6"
  }
 },
 "nbformat": 4,
 "nbformat_minor": 2
}
