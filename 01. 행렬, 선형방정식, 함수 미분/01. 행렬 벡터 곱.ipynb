{
 "cells": [
  {
   "cell_type": "code",
   "execution_count": 1,
   "metadata": {},
   "outputs": [],
   "source": [
    "import numpy as np"
   ]
  },
  {
   "cell_type": "markdown",
   "metadata": {},
   "source": [
    "## numpy 의 행렬에 관한 참고 문서\n",
    "- https://docs.scipy.org/doc/numpy-1.13.0/reference/generated/numpy.matrix.html\n",
    "- https://docs.scipy.org/doc/numpy-1.13.0/reference/generated/numpy.linalg.det.html\n",
    "- https://docs.scipy.org/doc/numpy-1.13.0/reference/generated/numpy.linalg.solve.html"
   ]
  },
  {
   "cell_type": "markdown",
   "metadata": {},
   "source": [
    "## 행렬 만들기\n",
    "- ```numpy.matrix``` : 수학적인 의미에 가깝게 표기해 준다."
   ]
  },
  {
   "cell_type": "code",
   "execution_count": 2,
   "metadata": {},
   "outputs": [
    {
     "name": "stdout",
     "output_type": "stream",
     "text": [
      "[[1.1 1.2 1.3 1.4]\n",
      " [2.1 2.2 2.3 2.4]\n",
      " [3.1 3.2 3.3 3.4]\n",
      " [4.1 4.2 4.3 4.4]]\n",
      "-------------\n",
      "[[1]\n",
      " [2]\n",
      " [3]\n",
      " [4]]\n"
     ]
    }
   ],
   "source": [
    "A = np.matrix('1.1, 1.2, 1.3, 1.4; 2.1, 2.2, 2.3, 2.4; 3.1, 3.2, 3.3, 3.4; 4.1, 4.2, 4.3, 4.4')\n",
    "x = np.matrix('1;2;3;4')\n",
    "print(A)\n",
    "print('-------------')\n",
    "print(x)"
   ]
  },
  {
   "cell_type": "markdown",
   "metadata": {},
   "source": [
    "## 행렬 만들기\n",
    "- ```numpy.array``` : 사용하기 편하게 표기해 준다."
   ]
  },
  {
   "cell_type": "code",
   "execution_count": 3,
   "metadata": {},
   "outputs": [
    {
     "name": "stdout",
     "output_type": "stream",
     "text": [
      "[[1.1 1.2 1.3 1.4]\n",
      " [2.1 2.2 2.3 2.4]\n",
      " [3.1 3.2 3.3 3.4]\n",
      " [4.1 4.2 4.3 4.4]]\n",
      "-------------\n",
      "[1 2 3 4]\n"
     ]
    }
   ],
   "source": [
    "A = np.array([[1.1, 1.2, 1.3, 1.4], [2.1, 2.2, 2.3, 2.4], [3.1, 3.2, 3.3, 3.4], [4.1, 4.2, 4.3, 4.4]])\n",
    "x = np.array([1,2,3,4])\n",
    "print(A)\n",
    "print('-------------')\n",
    "print(x)"
   ]
  },
  {
   "cell_type": "markdown",
   "metadata": {},
   "source": [
    "## 행렬 벡터 곱 1 (Matrix-Vector Multiplication)\n",
    "일반적인 행렬 벡터 곱셈\n",
    "\\begin{equation}\n",
    "\\begin{bmatrix}\n",
    "1 & 2 & 2 & 0 \\\\\n",
    "3 & 2 & 1 & 0 \\\\\n",
    "0 & 0 & 2 & 1 \\\\\n",
    "0 & 3 & 1 & 3\n",
    "\\end{bmatrix}\n",
    "\\begin{bmatrix}\n",
    "1\\\\2\\\\2\\\\1\n",
    "\\end{bmatrix}=?\n",
    "\\end{equation}"
   ]
  },
  {
   "cell_type": "code",
   "execution_count": 4,
   "metadata": {},
   "outputs": [
    {
     "name": "stdout",
     "output_type": "stream",
     "text": [
      "[[ 9.]\n",
      " [ 9.]\n",
      " [ 5.]\n",
      " [11.]]\n"
     ]
    }
   ],
   "source": [
    "A = np.matrix('1, 2, 2, 0; 3, 2, 1, 0; 0, 0, 2, 1; 0, 3, 1, 3')\n",
    "x = np.matrix('1;2;2;1')\n",
    "b = np.zeros((4,1))\n",
    "n = 4\n",
    "for i in range(0, n):\n",
    "    val = 0.0\n",
    "    for j in range(0,n):\n",
    "        # TODO 1\n",
    "        val += A[i,j] * x[j]\n",
    "    b[i] = val\n",
    "print(b)"
   ]
  },
  {
   "cell_type": "code",
   "execution_count": 5,
   "metadata": {},
   "outputs": [
    {
     "name": "stdout",
     "output_type": "stream",
     "text": [
      "[ 9  9  5 11]\n"
     ]
    }
   ],
   "source": [
    "A = np.array([[1, 2, 2, 0], [3, 2, 1, 0], [0, 0, 2, 1], [0, 3, 1, 3]])\n",
    "x = np.array([1,2,2,1])\n",
    "b = np.array([0,0,0,0])\n",
    "n = 4\n",
    "for i in range(0, n):\n",
    "    val = 0.0\n",
    "    for j in range(0,n):\n",
    "        # TODO 2\n",
    "        val += A[i,j] * x[j]\n",
    "    b[i] = val\n",
    "print(b)"
   ]
  },
  {
   "cell_type": "markdown",
   "metadata": {},
   "source": [
    "## 행렬 벡터 곱 2 (Matrix-Vector Multiplication)\n",
    "곱연산을 ```numpy```를 사용해 계산합니다.\n",
    "\\begin{equation}\n",
    "\\begin{bmatrix}\n",
    "1 & 2 & 2 & 0 \\\\\n",
    "3 & 2 & 1 & 0 \\\\\n",
    "0 & 0 & 2 & 1 \\\\\n",
    "0 & 3 & 1 & 3\n",
    "\\end{bmatrix}\n",
    "\\begin{bmatrix}\n",
    "1\\\\2\\\\2\\\\1\n",
    "\\end{bmatrix}=?\n",
    "\\end{equation}"
   ]
  },
  {
   "cell_type": "code",
   "execution_count": 6,
   "metadata": {},
   "outputs": [
    {
     "name": "stdout",
     "output_type": "stream",
     "text": [
      "[[1 2 2 0]\n",
      " [3 2 1 0]\n",
      " [0 0 2 1]\n",
      " [0 3 1 3]]\n",
      "-------------\n",
      "[[1]\n",
      " [2]\n",
      " [3]\n",
      " [4]]\n",
      "-------------\n",
      "[[11]\n",
      " [10]\n",
      " [10]\n",
      " [21]]\n"
     ]
    }
   ],
   "source": [
    "# np.matrix 를 사용하면 행렬 벡터 곱을 직관석인 수식으로 구할 수 있습니다.\n",
    "A = np.matrix('1, 2, 2, 0; 3, 2, 1, 0; 0, 0, 2, 1; 0, 3, 1, 3')\n",
    "x = np.matrix('1;2;3;4')\n",
    "print(A)\n",
    "print('-------------')\n",
    "print(x)\n",
    "print('-------------')\n",
    "\n",
    "# TODO 3\n",
    "b = A*x\n",
    "print(b)"
   ]
  },
  {
   "cell_type": "code",
   "execution_count": 7,
   "metadata": {},
   "outputs": [
    {
     "name": "stdout",
     "output_type": "stream",
     "text": [
      "[[1 2 2 0]\n",
      " [3 2 1 0]\n",
      " [0 0 2 1]\n",
      " [0 3 1 3]]\n",
      "-------------\n",
      "[1 2 2 1]\n",
      "-------------\n",
      "[ 9  9  5 11]\n",
      "-------------\n",
      "[ 9  9  5 11]\n"
     ]
    }
   ],
   "source": [
    "# np.array 의 경우 numpy 의 matmul 을 사용해야 곱연산을 정상적으로 처리 할 수 있습니다.\n",
    "A = np.array([[1, 2, 2, 0], [3, 2, 1, 0], [0, 0, 2, 1], [0, 3, 1, 3]])\n",
    "x = np.array([1,2,2,1])\n",
    "print(A)\n",
    "print('-------------')\n",
    "print(x)\n",
    "print('-------------')\n",
    "\n",
    "b = np.array([0,0,0,0])\n",
    "b = np.dot(A,x)\n",
    "print(b)\n",
    "print('-------------')\n",
    "\n",
    "b = np.matmul(A,x)\n",
    "print(b)"
   ]
  },
  {
   "cell_type": "code",
   "execution_count": 8,
   "metadata": {},
   "outputs": [],
   "source": [
    "# np.array 를 np.matrix 처럼 직관적으로 곱연산을 하면 정상적인 벡터 결과값이 나오지 않습니다.\n",
    "A = np.array([[1, 2, 2, 0], [3, 2, 1, 0], [0, 0, 2, 1], [0, 3, 1, 3]])\n",
    "x = np.array([1,2,2,1])"
   ]
  },
  {
   "cell_type": "code",
   "execution_count": 9,
   "metadata": {},
   "outputs": [
    {
     "data": {
      "text/plain": [
       "array([[1, 4, 4, 0],\n",
       "       [3, 4, 2, 0],\n",
       "       [0, 0, 4, 1],\n",
       "       [0, 6, 2, 3]])"
      ]
     },
     "execution_count": 9,
     "metadata": {},
     "output_type": "execute_result"
    }
   ],
   "source": [
    "# 결과값이 벡터가 나와야 하는데 행렬이 나옵니다.\n",
    "A*x"
   ]
  },
  {
   "cell_type": "code",
   "execution_count": 10,
   "metadata": {},
   "outputs": [
    {
     "data": {
      "text/plain": [
       "array([ 9,  9,  5, 11])"
      ]
     },
     "execution_count": 10,
     "metadata": {},
     "output_type": "execute_result"
    }
   ],
   "source": [
    "np.dot(A,x)"
   ]
  },
  {
   "cell_type": "code",
   "execution_count": 11,
   "metadata": {},
   "outputs": [
    {
     "data": {
      "text/plain": [
       "array([7, 9, 9, 5])"
      ]
     },
     "execution_count": 11,
     "metadata": {},
     "output_type": "execute_result"
    }
   ],
   "source": [
    "np.dot(x,A)"
   ]
  }
 ],
 "metadata": {
  "kernelspec": {
   "display_name": "Python 3",
   "language": "python",
   "name": "python3"
  },
  "language_info": {
   "codemirror_mode": {
    "name": "ipython",
    "version": 3
   },
   "file_extension": ".py",
   "mimetype": "text/x-python",
   "name": "python",
   "nbconvert_exporter": "python",
   "pygments_lexer": "ipython3",
   "version": "3.5.6"
  }
 },
 "nbformat": 4,
 "nbformat_minor": 2
}
